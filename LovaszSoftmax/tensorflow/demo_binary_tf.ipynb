{
 "cells": [
  {
   "cell_type": "markdown",
   "metadata": {},
   "source": [
    "# Binary segmentation with the Lovász Hinge\n",
    "## Tensorflow version, see PyTorch version for more details & use in training"
   ]
  },
  {
   "cell_type": "code",
   "execution_count": 1,
   "metadata": {
    "ExecuteTime": {
     "end_time": "2019-02-26T17:10:10.230570Z",
     "start_time": "2019-02-26T17:10:10.212590Z"
    },
    "collapsed": true
   },
   "outputs": [],
   "source": [
    "%load_ext autoreload\n",
    "%autoreload 2"
   ]
  },
  {
   "cell_type": "code",
   "execution_count": 2,
   "metadata": {
    "ExecuteTime": {
     "end_time": "2019-02-26T17:10:10.246446Z",
     "start_time": "2019-02-26T17:10:10.232957Z"
    },
    "collapsed": true
   },
   "outputs": [],
   "source": [
    "from __future__ import division, print_function"
   ]
  },
  {
   "cell_type": "code",
   "execution_count": 3,
   "metadata": {
    "ExecuteTime": {
     "end_time": "2019-02-26T17:10:10.258048Z",
     "start_time": "2019-02-26T17:10:10.247788Z"
    },
    "collapsed": true
   },
   "outputs": [],
   "source": [
    "import sys"
   ]
  },
  {
   "cell_type": "code",
   "execution_count": 4,
   "metadata": {
    "ExecuteTime": {
     "end_time": "2019-02-26T17:10:14.921553Z",
     "start_time": "2019-02-26T17:10:10.260680Z"
    }
   },
   "outputs": [],
   "source": [
    "import tensorflow as tf"
   ]
  },
  {
   "cell_type": "code",
   "execution_count": 5,
   "metadata": {
    "ExecuteTime": {
     "end_time": "2019-02-26T17:10:14.951312Z",
     "start_time": "2019-02-26T17:10:14.924015Z"
    },
    "collapsed": true
   },
   "outputs": [],
   "source": [
    "import lovasz_losses_tf as L"
   ]
  },
  {
   "cell_type": "code",
   "execution_count": 6,
   "metadata": {
    "ExecuteTime": {
     "end_time": "2019-02-26T17:10:15.184676Z",
     "start_time": "2019-02-26T17:10:14.952563Z"
    },
    "collapsed": true
   },
   "outputs": [],
   "source": [
    "import numpy as np\n",
    "import matplotlib.pyplot as plt\n",
    "%matplotlib inline"
   ]
  },
  {
   "cell_type": "code",
   "execution_count": 7,
   "metadata": {
    "ExecuteTime": {
     "end_time": "2019-02-26T17:10:15.228515Z",
     "start_time": "2019-02-26T17:10:15.186524Z"
    },
    "collapsed": true
   },
   "outputs": [],
   "source": [
    "# add parent path to pythonpath to import demo_utils\n",
    "import sys\n",
    "sys.path.append('../demo_helpers')\n",
    "from demo_utils import pil_grid, dummy_triangles\n",
    "from demo_utils_tf import define_scope"
   ]
  },
  {
   "cell_type": "code",
   "execution_count": 8,
   "metadata": {
    "ExecuteTime": {
     "end_time": "2019-02-26T17:10:15.704993Z",
     "start_time": "2019-02-26T17:10:15.230535Z"
    }
   },
   "outputs": [],
   "source": [
    "# add pytorch folder to path for comparison\n",
    "sys.path.append('../pytorch')\n",
    "import lovasz_losses as L_pytorch"
   ]
  },
  {
   "cell_type": "markdown",
   "metadata": {},
   "source": [
    "### Ground truth"
   ]
  },
  {
   "cell_type": "code",
   "execution_count": 9,
   "metadata": {
    "ExecuteTime": {
     "end_time": "2019-02-26T17:10:15.739399Z",
     "start_time": "2019-02-26T17:10:15.706475Z"
    },
    "collapsed": true
   },
   "outputs": [],
   "source": [
    "H = W = 200\n",
    "IGNORE = 255\n",
    "classes = [0, 255, 1]\n",
    "C = len([c for c in classes if c != IGNORE])\n",
    "B = 2"
   ]
  },
  {
   "cell_type": "code",
   "execution_count": 10,
   "metadata": {
    "ExecuteTime": {
     "end_time": "2019-02-26T17:10:15.803022Z",
     "start_time": "2019-02-26T17:10:15.740518Z"
    }
   },
   "outputs": [
    {
     "data": {
      "image/png": "[encoded data removed]",
      "text/plain": [
       "<PIL.Image.Image image mode=RGB size=402x202 at 0x7F2BB85F5E48>"
      ]
     },
     "execution_count": 10,
     "metadata": {},
     "output_type": "execute_result"
    }
   ],
   "source": [
    "np.random.seed(18)\n",
    "labels_ = [dummy_triangles(H, classes) for b in range(B)]\n",
    "labels = np.stack(map(np.array, labels_)).astype(np.uint8)\n",
    "pil_grid(labels_, 5, margin=1)"
   ]
  },
  {
   "cell_type": "markdown",
   "metadata": {},
   "source": [
    "### Features"
   ]
  },
  {
   "cell_type": "code",
   "execution_count": 11,
   "metadata": {
    "ExecuteTime": {
     "end_time": "2019-02-26T17:10:15.847418Z",
     "start_time": "2019-02-26T17:10:15.804496Z"
    },
    "collapsed": true
   },
   "outputs": [],
   "source": [
    "np.random.seed(57)\n",
    "feats = np.zeros(labels.shape)\n",
    "feats[labels == 0] = np.random.normal(-1, 2.5, size=feats.shape)[labels == 0]\n",
    "feats[labels == 1] = np.random.normal(1, 2.5, size=feats.shape)[labels == 1]\n",
    "feats[labels == 255] = np.random.normal(0, 5, size=feats.shape)[labels == 255]"
   ]
  },
  {
   "cell_type": "code",
   "execution_count": 12,
   "metadata": {
    "ExecuteTime": {
     "end_time": "2019-02-26T17:10:15.907285Z",
     "start_time": "2019-02-26T17:10:15.848545Z"
    },
    "collapsed": true
   },
   "outputs": [],
   "source": [
    "sess = tf.InteractiveSession()"
   ]
  },
  {
   "cell_type": "code",
   "execution_count": 13,
   "metadata": {
    "ExecuteTime": {
     "end_time": "2019-02-26T17:10:15.945032Z",
     "start_time": "2019-02-26T17:10:15.909061Z"
    },
    "collapsed": true
   },
   "outputs": [],
   "source": [
    "labels_tf = tf.placeholder(np.int64, shape=(None, H, W), name='labels')\n",
    "feats_tf = tf.placeholder(np.float32, shape=(None, H, W), name='features')"
   ]
  },
  {
   "cell_type": "code",
   "execution_count": 14,
   "metadata": {
    "ExecuteTime": {
     "end_time": "2019-02-26T17:10:15.973877Z",
     "start_time": "2019-02-26T17:10:15.946100Z"
    },
    "collapsed": true
   },
   "outputs": [],
   "source": [
    "feed_dict = {labels_tf: labels, \n",
    "             feats_tf: feats}"
   ]
  },
  {
   "cell_type": "markdown",
   "metadata": {},
   "source": [
    "### Model"
   ]
  },
  {
   "cell_type": "code",
   "execution_count": 15,
   "metadata": {
    "ExecuteTime": {
     "end_time": "2019-02-26T17:10:16.013115Z",
     "start_time": "2019-02-26T17:10:15.974973Z"
    },
    "collapsed": true
   },
   "outputs": [],
   "source": [
    "class Model:\n",
    "    '''\n",
    "    Simple linear model\n",
    "    '''\n",
    "    \n",
    "    def __init__(self, feats):\n",
    "        self.feats = feats\n",
    "        self.scores\n",
    "        self.predict\n",
    "\n",
    "    @define_scope\n",
    "    def scores(self):\n",
    "        x = self.feats\n",
    "        bias = tf.Variable(0., x.dtype, name=\"bias\")\n",
    "        return tf.add(x, bias, name=\"scores\")\n",
    "    \n",
    "    @define_scope\n",
    "    def probas(self):\n",
    "        return tf.nn.sigmoid(self.scores)\n",
    "    \n",
    "    @define_scope\n",
    "    def predict(self):\n",
    "        return tf.greater_equal(self.scores, 0, name=\"predict\")"
   ]
  },
  {
   "cell_type": "code",
   "execution_count": 16,
   "metadata": {
    "ExecuteTime": {
     "end_time": "2019-02-26T17:10:16.048152Z",
     "start_time": "2019-02-26T17:10:16.014724Z"
    },
    "collapsed": true
   },
   "outputs": [],
   "source": [
    "m = Model(feats_tf)"
   ]
  },
  {
   "cell_type": "code",
   "execution_count": 17,
   "metadata": {
    "ExecuteTime": {
     "end_time": "2019-02-26T17:10:16.078972Z",
     "start_time": "2019-02-26T17:10:16.049354Z"
    },
    "collapsed": true
   },
   "outputs": [],
   "source": [
    "sess.run(tf.global_variables_initializer())"
   ]
  },
  {
   "cell_type": "markdown",
   "metadata": {},
   "source": [
    "## Lovász-Hinge value"
   ]
  },
  {
   "cell_type": "code",
   "execution_count": 18,
   "metadata": {
    "ExecuteTime": {
     "end_time": "2019-02-26T17:10:16.244800Z",
     "start_time": "2019-02-26T17:10:16.081932Z"
    },
    "collapsed": true
   },
   "outputs": [],
   "source": [
    "loss = L.lovasz_hinge(m.scores, labels_tf, ignore=IGNORE, per_image=True)"
   ]
  },
  {
   "cell_type": "code",
   "execution_count": 19,
   "metadata": {
    "ExecuteTime": {
     "end_time": "2019-02-26T17:10:16.307823Z",
     "start_time": "2019-02-26T17:10:16.246970Z"
    }
   },
   "outputs": [
    {
     "data": {
      "text/plain": [
       "3.4664207"
      ]
     },
     "execution_count": 19,
     "metadata": {},
     "output_type": "execute_result"
    }
   ],
   "source": [
    "loss.eval(feed_dict)"
   ]
  },
  {
   "cell_type": "markdown",
   "metadata": {},
   "source": [
    "#### Gradient w.r.t. bias"
   ]
  },
  {
   "cell_type": "code",
   "execution_count": 20,
   "metadata": {
    "ExecuteTime": {
     "end_time": "2019-02-26T17:10:16.592486Z",
     "start_time": "2019-02-26T17:10:16.309527Z"
    }
   },
   "outputs": [
    {
     "name": "stderr",
     "output_type": "stream",
     "text": [
      "WARNING: Logging before flag parsing goes to stderr.\n",
      "W0226 18:10:16.500215 139827989141312 deprecation.py:323] From /esat/visicsdata/mberman/miniconda2/envs/lamlearn/lib/python3.6/site-packages/tensorflow/python/ops/array_grad.py:425: to_int32 (from tensorflow.python.ops.math_ops) is deprecated and will be removed in a future version.\n",
      "Instructions for updating:\n",
      "Use tf.cast instead.\n"
     ]
    },
    {
     "data": {
      "text/plain": [
       "0.57314444"
      ]
     },
     "execution_count": 20,
     "metadata": {},
     "output_type": "execute_result"
    }
   ],
   "source": [
    "tf.gradients(loss, tf.trainable_variables()[0])[0].eval(feed_dict)"
   ]
  },
  {
   "cell_type": "markdown",
   "metadata": {},
   "source": [
    "### PyTorch reference"
   ]
  },
  {
   "cell_type": "markdown",
   "metadata": {},
   "source": [
    "should give the same results..."
   ]
  },
  {
   "cell_type": "code",
   "execution_count": 21,
   "metadata": {
    "ExecuteTime": {
     "end_time": "2019-02-26T17:10:16.703262Z",
     "start_time": "2019-02-26T17:10:16.594132Z"
    },
    "collapsed": true
   },
   "outputs": [],
   "source": [
    "import torch\n",
    "from torch.autograd import Variable\n",
    "import torch.nn.functional as F\n",
    "from torch.optim import Adam\n",
    "from torch import nn\n",
    "\n",
    "class ModelPytorch(nn.Module):\n",
    "    def __init__(self):\n",
    "        super(ModelPytorch, self).__init__()\n",
    "        self.bias = nn.Parameter(torch.Tensor([0]))\n",
    "    \n",
    "    def forward(self, x):\n",
    "        return x + self.bias\n",
    "\n",
    "m_torch = ModelPytorch()\n",
    "out = m_torch(Variable(torch.from_numpy(feats.astype(np.float32))))\n",
    "loss_torch = L_pytorch.lovasz_hinge(out, torch.from_numpy(labels), ignore=IGNORE, per_image=True)"
   ]
  },
  {
   "cell_type": "code",
   "execution_count": 22,
   "metadata": {
    "ExecuteTime": {
     "end_time": "2019-02-26T17:10:16.747415Z",
     "start_time": "2019-02-26T17:10:16.704610Z"
    }
   },
   "outputs": [
    {
     "data": {
      "text/plain": [
       "3.4664201736450195"
      ]
     },
     "execution_count": 22,
     "metadata": {},
     "output_type": "execute_result"
    }
   ],
   "source": [
    "loss_torch.data.numpy().item()"
   ]
  },
  {
   "cell_type": "markdown",
   "metadata": {},
   "source": [
    "#### Gradient w.r.t. bias"
   ]
  },
  {
   "cell_type": "code",
   "execution_count": 23,
   "metadata": {
    "ExecuteTime": {
     "end_time": "2019-02-26T17:10:16.800181Z",
     "start_time": "2019-02-26T17:10:16.748739Z"
    },
    "collapsed": true
   },
   "outputs": [],
   "source": [
    "loss_torch.backward()"
   ]
  },
  {
   "cell_type": "code",
   "execution_count": 24,
   "metadata": {
    "ExecuteTime": {
     "end_time": "2019-02-26T17:10:16.834715Z",
     "start_time": "2019-02-26T17:10:16.801857Z"
    }
   },
   "outputs": [
    {
     "data": {
      "text/plain": [
       "0.5731444358825684"
      ]
     },
     "execution_count": 24,
     "metadata": {},
     "output_type": "execute_result"
    }
   ],
   "source": [
    "m_torch.bias.grad.data.numpy().item()"
   ]
  },
  {
   "cell_type": "markdown",
   "metadata": {},
   "source": [
    "## Lovász-Sigmoid value"
   ]
  },
  {
   "cell_type": "code",
   "execution_count": 25,
   "metadata": {
    "ExecuteTime": {
     "end_time": "2019-02-26T17:10:16.981434Z",
     "start_time": "2019-02-26T17:10:16.836137Z"
    }
   },
   "outputs": [],
   "source": [
    "loss = L.lovasz_softmax(m.probas, labels_tf, classes=[1], ignore=IGNORE, per_image=True)"
   ]
  },
  {
   "cell_type": "code",
   "execution_count": 26,
   "metadata": {
    "ExecuteTime": {
     "end_time": "2019-02-26T17:10:17.040635Z",
     "start_time": "2019-02-26T17:10:16.982684Z"
    }
   },
   "outputs": [
    {
     "data": {
      "text/plain": [
       "0.80367076"
      ]
     },
     "execution_count": 26,
     "metadata": {},
     "output_type": "execute_result"
    }
   ],
   "source": [
    "loss.eval(feed_dict)"
   ]
  },
  {
   "cell_type": "code",
   "execution_count": 31,
   "metadata": {
    "ExecuteTime": {
     "end_time": "2019-02-26T17:10:41.047477Z",
     "start_time": "2019-02-26T17:10:40.733537Z"
    }
   },
   "outputs": [
    {
     "data": {
      "text/plain": [
       "0.032584023"
      ]
     },
     "execution_count": 31,
     "metadata": {},
     "output_type": "execute_result"
    }
   ],
   "source": [
    "tf.gradients(loss, tf.trainable_variables()[0])[0].eval(feed_dict)"
   ]
  },
  {
   "cell_type": "markdown",
   "metadata": {
    "ExecuteTime": {
     "end_time": "2019-02-26T16:58:05.605057Z",
     "start_time": "2019-02-26T16:58:05.421586Z"
    }
   },
   "source": [
    "### PyTorch reference"
   ]
  },
  {
   "cell_type": "code",
   "execution_count": 27,
   "metadata": {
    "ExecuteTime": {
     "end_time": "2019-02-26T17:10:17.073915Z",
     "start_time": "2019-02-26T17:10:17.042222Z"
    },
    "collapsed": true
   },
   "outputs": [],
   "source": [
    "sigmoid_out = torch.sigmoid(out)"
   ]
  },
  {
   "cell_type": "code",
   "execution_count": 28,
   "metadata": {
    "ExecuteTime": {
     "end_time": "2019-02-26T17:10:17.133917Z",
     "start_time": "2019-02-26T17:10:17.075353Z"
    }
   },
   "outputs": [
    {
     "data": {
      "text/plain": [
       "tensor(0.8037, grad_fn=<DivBackward0>)"
      ]
     },
     "execution_count": 28,
     "metadata": {},
     "output_type": "execute_result"
    }
   ],
   "source": [
    "loss_torch = L_pytorch.lovasz_softmax(sigmoid_out, torch.from_numpy(labels), classes=[1], ignore=IGNORE, per_image=True)\n",
    "loss_torch"
   ]
  },
  {
   "cell_type": "code",
   "execution_count": 29,
   "metadata": {
    "ExecuteTime": {
     "end_time": "2019-02-26T17:10:17.172649Z",
     "start_time": "2019-02-26T17:10:17.135408Z"
    }
   },
   "outputs": [],
   "source": [
    "m_torch.bias.grad.data.fill_(0)\n",
    "loss_torch.backward()"
   ]
  },
  {
   "cell_type": "code",
   "execution_count": 30,
   "metadata": {
    "ExecuteTime": {
     "end_time": "2019-02-26T17:10:17.207204Z",
     "start_time": "2019-02-26T17:10:17.173987Z"
    }
   },
   "outputs": [
    {
     "data": {
      "text/plain": [
       "0.03258401155471802"
      ]
     },
     "execution_count": 30,
     "metadata": {},
     "output_type": "execute_result"
    }
   ],
   "source": [
    "m_torch.bias.grad.data.numpy().item()"
   ]
  },
  {
   "cell_type": "code",
   "execution_count": null,
   "metadata": {
    "collapsed": true
   },
   "outputs": [],
   "source": []
  }
 ],
 "metadata": {
  "anaconda-cloud": {},
  "kernelspec": {
   "display_name": "Python [conda env:lamlearn]",
   "language": "python",
   "name": "conda-env-lamlearn-py"
  },
  "language_info": {
   "codemirror_mode": {
    "name": "ipython",
    "version": 3
   },
   "file_extension": ".py",
   "mimetype": "text/x-python",
   "name": "python",
   "nbconvert_exporter": "python",
   "pygments_lexer": "ipython3",
   "version": "3.6.8"
  },
  "latex_envs": {
   "LaTeX_envs_menu_present": true,
   "autoclose": false,
   "autocomplete": true,
   "bibliofile": "biblio.bib",
   "cite_by": "apalike",
   "current_citInitial": 1,
   "eqLabelWithNumbers": true,
   "eqNumInitial": 1,
   "hotkeys": {
    "equation": "Ctrl-E",
    "itemize": "Ctrl-I"
   },
   "labels_anchors": false,
   "latex_user_defs": false,
   "report_style_numbering": false,
   "user_envs_cfg": false
  }
 },
 "nbformat": 4,
 "nbformat_minor": 2
}
