{
 "cells": [
  {
   "cell_type": "markdown",
   "metadata": {},
   "source": [
    "# Multiclass segmentation with the Lovász-Softmax\n",
    "## Tensorflow version, see PyTorch version for more details & use in training"
   ]
  },
  {
   "cell_type": "code",
   "execution_count": 1,
   "metadata": {
    "collapsed": true
   },
   "outputs": [],
   "source": [
    "%load_ext autoreload\n",
    "%autoreload 2"
   ]
  },
  {
   "cell_type": "code",
   "execution_count": 2,
   "metadata": {
    "collapsed": true
   },
   "outputs": [],
   "source": [
    "from __future__ import division, print_function"
   ]
  },
  {
   "cell_type": "code",
   "execution_count": 33,
   "metadata": {
    "collapsed": true
   },
   "outputs": [],
   "source": [
    "import tensorflow as tf"
   ]
  },
  {
   "cell_type": "code",
   "execution_count": 4,
   "metadata": {
    "collapsed": true
   },
   "outputs": [],
   "source": [
    "import lovasz_losses_tf as L"
   ]
  },
  {
   "cell_type": "code",
   "execution_count": 5,
   "metadata": {
    "collapsed": true
   },
   "outputs": [],
   "source": [
    "import numpy as np\n",
    "import matplotlib.pyplot as plt\n",
    "%matplotlib inline"
   ]
  },
  {
   "cell_type": "code",
   "execution_count": 14,
   "metadata": {
    "collapsed": true
   },
   "outputs": [],
   "source": [
    "# add parent path to pythonpath to import demo_utils\n",
    "import sys\n",
    "sys.path.append('../demo_helpers')\n",
    "from demo_utils import pil_grid, dummy_triangles, printoptions\n",
    "from demo_utils_tf import define_scope"
   ]
  },
  {
   "cell_type": "code",
   "execution_count": 7,
   "metadata": {
    "collapsed": true
   },
   "outputs": [],
   "source": [
    "# add pytorch folder to path for comparison\n",
    "sys.path.append('../pytorch')\n",
    "import lovasz_losses as L_pytorch"
   ]
  },
  {
   "cell_type": "markdown",
   "metadata": {},
   "source": [
    "## Batch of 2 random images with classes [0, 1, 2] and void (255)"
   ]
  },
  {
   "cell_type": "markdown",
   "metadata": {},
   "source": [
    "### Labels"
   ]
  },
  {
   "cell_type": "code",
   "execution_count": 8,
   "metadata": {},
   "outputs": [
    {
     "data": {
      "image/png": "[encoded data removed]",
      "text/plain": [
       "<PIL.Image.Image image mode=RGB size=402x202 at 0x7F9E5DC36FD0>"
      ]
     },
     "execution_count": 8,
     "metadata": {},
     "output_type": "execute_result"
    }
   ],
   "source": [
    "np.random.seed(18)\n",
    "IGNORE = 255\n",
    "C = 3\n",
    "B = 2\n",
    "H = 200\n",
    "labels_ = [dummy_triangles(H, [0, 255, 1, 2]) for b in range(B)]\n",
    "labels = np.stack(map(np.array, labels_)).astype(np.uint8)\n",
    "pil_grid(labels_, 5, margin=1)"
   ]
  },
  {
   "cell_type": "markdown",
   "metadata": {},
   "source": [
    "### Features"
   ]
  },
  {
   "cell_type": "code",
   "execution_count": 9,
   "metadata": {
    "collapsed": true
   },
   "outputs": [],
   "source": [
    "np.random.seed(57)\n",
    "B, H, W = labels.shape\n",
    "labels_ = labels.copy()\n",
    "labels_[labels_ == 255] = np.random.randint(C, size=labels_.shape)[labels_ == 255] # random feats for void\n",
    "labels_1hot = np.zeros((B, C, H, W))\n",
    "for (b, h, w), c in np.ndenumerate(labels_):\n",
    "    labels_1hot[b, c, h, w] = 1"
   ]
  },
  {
   "cell_type": "code",
   "execution_count": 10,
   "metadata": {
    "collapsed": true
   },
   "outputs": [],
   "source": [
    "feats = labels_1hot.copy()\n",
    "feats += np.random.normal(0, 2, size=feats.shape)"
   ]
  },
  {
   "cell_type": "markdown",
   "metadata": {},
   "source": [
    "## Model"
   ]
  },
  {
   "cell_type": "markdown",
   "metadata": {},
   "source": [
    "### PyTorch reference"
   ]
  },
  {
   "cell_type": "code",
   "execution_count": 11,
   "metadata": {
    "collapsed": true
   },
   "outputs": [],
   "source": [
    "import torch\n",
    "from torch.autograd import Variable\n",
    "import torch.nn.functional as F\n",
    "from torch.optim import Adam\n",
    "from torch import nn\n",
    "import lovasz_losses as L_pytorch\n",
    "\n",
    "class ModelPytorch(nn.Module):\n",
    "    def __init__(self):\n",
    "        super(ModelPytorch, self).__init__()\n",
    "        self.conv = nn.Conv2d(C, C, 3, padding=1)\n",
    "        \n",
    "    def forward(self, x):\n",
    "        return x + self.conv(x)\n",
    "\n",
    "m_torch = ModelPytorch().cuda()\n",
    "out = m_torch(Variable(torch.from_numpy(feats.astype(np.float32)).cuda()))\n",
    "out = F.softmax(out)\n",
    "loss_torch = L_pytorch.lovasz_softmax(out, torch.from_numpy(labels).cuda(),\n",
    "                                      only_present=True, ignore=IGNORE, per_image=False)"
   ]
  },
  {
   "cell_type": "code",
   "execution_count": 16,
   "metadata": {},
   "outputs": [
    {
     "name": "stdout",
     "output_type": "stream",
     "text": [
      "[[0.3355 0.2288 0.7424 0.0829 0.8521 0.0757 0.0143 0.8725 0.5713 0.4565]\n",
      " [0.4779 0.8647 0.5776 0.0321 0.4146 0.0143 0.6375 0.8737 0.6001 0.8027]\n",
      " [0.9806 0.0528 0.0015 0.671  0.0095 0.9874 0.7075 0.0039 0.2106 0.987 ]\n",
      " [0.0802 0.9387 0.7126 0.5766 0.0362 0.9507 0.0004 0.0969 0.9088 0.9337]\n",
      " [0.6104 0.0255 0.0414 0.2045 0.9676 0.8938 0.6495 0.1372 0.0686 0.1333]\n",
      " [0.0665 0.0721 0.9964 0.9284 0.7498 0.382  0.0924 0.1466 0.4221 0.9914]\n",
      " [0.2396 0.1232 0.2587 0.0093 0.017  0.9666 0.0502 0.0859 0.7002 0.1966]\n",
      " [0.6159 0.6652 0.0074 0.4776 0.8972 0.6777 0.2861 0.4919 0.7389 0.354 ]\n",
      " [0.8986 0.9128 0.0385 0.9902 0.549  0.8943 0.2148 0.2527 0.874  0.3742]\n",
      " [0.0492 0.2115 0.0074 0.0697 0.7794 0.0197 0.0046 0.0268 0.0148 0.2851]]\n"
     ]
    }
   ],
   "source": [
    "with printoptions(precision=4, suppress=True):\n",
    "    print(out[0, 0, :10, :10].data.cpu().numpy())"
   ]
  },
  {
   "cell_type": "code",
   "execution_count": 17,
   "metadata": {},
   "outputs": [
    {
     "data": {
      "text/plain": [
       "0.7949457"
      ]
     },
     "execution_count": 17,
     "metadata": {},
     "output_type": "execute_result"
    }
   ],
   "source": [
    "loss_torch.data.cpu().numpy()[0]"
   ]
  },
  {
   "cell_type": "markdown",
   "metadata": {},
   "source": [
    "#### small gradient check"
   ]
  },
  {
   "cell_type": "code",
   "execution_count": 18,
   "metadata": {
    "collapsed": true
   },
   "outputs": [],
   "source": [
    "loss_torch.backward()"
   ]
  },
  {
   "cell_type": "code",
   "execution_count": 19,
   "metadata": {},
   "outputs": [
    {
     "data": {
      "text/plain": [
       "array([-0.04259117,  0.02204291,  0.02054827], dtype=float32)"
      ]
     },
     "execution_count": 19,
     "metadata": {},
     "output_type": "execute_result"
    }
   ],
   "source": [
    "m_torch.conv.bias.grad.data.cpu().numpy()"
   ]
  },
  {
   "cell_type": "markdown",
   "metadata": {},
   "source": [
    "### Tensorflow model definition"
   ]
  },
  {
   "cell_type": "code",
   "execution_count": 20,
   "metadata": {
    "collapsed": true
   },
   "outputs": [],
   "source": [
    "class Model:\n",
    "    '''\n",
    "    Simple linear model\n",
    "    '''\n",
    "    \n",
    "    def __init__(self, feats):\n",
    "        self.feats = feats\n",
    "        self.scores\n",
    "        self.predict\n",
    "\n",
    "    @define_scope\n",
    "    def scores(self):\n",
    "        x = self.feats\n",
    "        # replicate pytorch initialization\n",
    "        init_weight = m_torch.conv.weight.data.cpu().numpy().transpose((2, 3, 1, 0))\n",
    "        init_bias = m_torch.conv.bias.data.cpu().numpy()\n",
    "        out = tf.nn.conv2d(x, tf.Variable(init_weight), strides=[1, 1, 1, 1], padding=\"SAME\")\n",
    "        out = tf.nn.bias_add(out, tf.Variable(init_bias))\n",
    "        return x + out\n",
    "    \n",
    "    @define_scope\n",
    "    def probas(self):\n",
    "        return tf.nn.softmax(self.scores, 3)\n",
    "    \n",
    "    @define_scope\n",
    "    def predict(self):\n",
    "        return tf.argmax(self.scores, 3)"
   ]
  },
  {
   "cell_type": "code",
   "execution_count": 21,
   "metadata": {
    "collapsed": true
   },
   "outputs": [],
   "source": [
    "sess = tf.InteractiveSession()"
   ]
  },
  {
   "cell_type": "code",
   "execution_count": 22,
   "metadata": {
    "collapsed": true
   },
   "outputs": [],
   "source": [
    "labels_tf = tf.placeholder(np.int64, shape=(None, H, W), name='labels')\n",
    "feats_tf = tf.placeholder(np.float32, shape=(None, H, W, C), name='features')\n",
    "\n",
    "feed_dict = {labels_tf: labels, \n",
    "             feats_tf: feats.transpose(0, 2, 3, 1)}"
   ]
  },
  {
   "cell_type": "code",
   "execution_count": 23,
   "metadata": {
    "collapsed": true
   },
   "outputs": [],
   "source": [
    "m = Model(feats_tf)"
   ]
  },
  {
   "cell_type": "code",
   "execution_count": 24,
   "metadata": {
    "collapsed": true
   },
   "outputs": [],
   "source": [
    "sess.run(tf.global_variables_initializer())"
   ]
  },
  {
   "cell_type": "code",
   "execution_count": 25,
   "metadata": {
    "collapsed": true
   },
   "outputs": [],
   "source": [
    "loss = L.lovasz_softmax(m.probas, labels_tf, only_present=True,\n",
    "                        ignore=IGNORE, per_image=False)"
   ]
  },
  {
   "cell_type": "code",
   "execution_count": 26,
   "metadata": {},
   "outputs": [
    {
     "data": {
      "text/plain": [
       "(2, 200, 200, 3)"
      ]
     },
     "execution_count": 26,
     "metadata": {},
     "output_type": "execute_result"
    }
   ],
   "source": [
    "m.probas.eval(feed_dict).shape"
   ]
  },
  {
   "cell_type": "code",
   "execution_count": 28,
   "metadata": {},
   "outputs": [
    {
     "name": "stdout",
     "output_type": "stream",
     "text": [
      "[[0.3355 0.2288 0.7424 0.0829 0.8521 0.0757 0.0143 0.8725 0.5713 0.4565]\n",
      " [0.4779 0.8647 0.5776 0.0321 0.4146 0.0143 0.6375 0.8737 0.6001 0.8027]\n",
      " [0.9806 0.0528 0.0015 0.671  0.0095 0.9874 0.7075 0.0039 0.2106 0.987 ]\n",
      " [0.0802 0.9387 0.7126 0.5766 0.0362 0.9507 0.0004 0.0969 0.9088 0.9337]\n",
      " [0.6104 0.0255 0.0414 0.2045 0.9676 0.8938 0.6495 0.1372 0.0686 0.1333]\n",
      " [0.0665 0.0721 0.9964 0.9284 0.7498 0.382  0.0924 0.1466 0.4221 0.9914]\n",
      " [0.2396 0.1232 0.2587 0.0093 0.017  0.9666 0.0502 0.0859 0.7002 0.1966]\n",
      " [0.6159 0.6652 0.0074 0.4776 0.8972 0.6777 0.2861 0.4919 0.7389 0.354 ]\n",
      " [0.8986 0.9128 0.0385 0.9902 0.549  0.8943 0.2148 0.2527 0.874  0.3742]\n",
      " [0.0492 0.2115 0.0074 0.0697 0.7794 0.0197 0.0046 0.0268 0.0148 0.2851]]\n"
     ]
    }
   ],
   "source": [
    "with printoptions(precision=4, suppress=True):\n",
    "    print(m.probas.eval(feed_dict)[0, :10, :10, 0])"
   ]
  },
  {
   "cell_type": "code",
   "execution_count": 29,
   "metadata": {},
   "outputs": [
    {
     "data": {
      "text/plain": [
       "0.7949457"
      ]
     },
     "execution_count": 29,
     "metadata": {},
     "output_type": "execute_result"
    }
   ],
   "source": [
    "loss.eval(feed_dict)"
   ]
  },
  {
   "cell_type": "markdown",
   "metadata": {},
   "source": [
    "#### Gradient w.r.t. bias"
   ]
  },
  {
   "cell_type": "code",
   "execution_count": 30,
   "metadata": {},
   "outputs": [
    {
     "data": {
      "text/plain": [
       "[<tf.Variable 'scores/Variable:0' shape=(3, 3, 3, 3) dtype=float32_ref>,\n",
       " <tf.Variable 'scores/Variable_1:0' shape=(3,) dtype=float32_ref>]"
      ]
     },
     "execution_count": 30,
     "metadata": {},
     "output_type": "execute_result"
    }
   ],
   "source": [
    "tf.trainable_variables()"
   ]
  },
  {
   "cell_type": "code",
   "execution_count": 32,
   "metadata": {},
   "outputs": [
    {
     "data": {
      "text/plain": [
       "array([-0.04259118,  0.02204292,  0.02054827], dtype=float32)"
      ]
     },
     "execution_count": 32,
     "metadata": {},
     "output_type": "execute_result"
    }
   ],
   "source": [
    "tf.gradients(loss, tf.trainable_variables()[1])[0].eval(feed_dict)"
   ]
  },
  {
   "cell_type": "code",
   "execution_count": null,
   "metadata": {
    "collapsed": true
   },
   "outputs": [],
   "source": []
  },
  {
   "cell_type": "code",
   "execution_count": null,
   "metadata": {
    "collapsed": true
   },
   "outputs": [],
   "source": []
  }
 ],
 "metadata": {
  "anaconda-cloud": {},
  "kernelspec": {
   "display_name": "Python [conda env:neural5]",
   "language": "python",
   "name": "conda-env-neural5-py"
  },
  "language_info": {
   "codemirror_mode": {
    "name": "ipython",
    "version": 2
   },
   "file_extension": ".py",
   "mimetype": "text/x-python",
   "name": "python",
   "nbconvert_exporter": "python",
   "pygments_lexer": "ipython2",
   "version": "2.7.14"
  },
  "latex_envs": {
   "LaTeX_envs_menu_present": true,
   "autoclose": false,
   "autocomplete": true,
   "bibliofile": "biblio.bib",
   "cite_by": "apalike",
   "current_citInitial": 1,
   "eqLabelWithNumbers": true,
   "eqNumInitial": 1,
   "hotkeys": {
    "equation": "Ctrl-E",
    "itemize": "Ctrl-I"
   },
   "labels_anchors": false,
   "latex_user_defs": false,
   "report_style_numbering": false,
   "user_envs_cfg": false
  }
 },
 "nbformat": 4,
 "nbformat_minor": 2
}
